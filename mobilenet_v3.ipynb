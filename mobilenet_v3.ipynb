{
  "cells": [
    {
      "cell_type": "code",
      "execution_count": null,
      "metadata": {
        "id": "5JeAD6OIuTVx"
      },
      "outputs": [],
      "source": [
        "import os\n",
        "import numpy as np\n",
        "import torch\n",
        "from torch.utils.data import DataLoader, Dataset\n",
        "from torchvision import transforms\n",
        "from transformers import ViTForImageClassification, ViTFeatureExtractor\n",
        "import cv2\n",
        "from tqdm import tqdm\n",
        "from concurrent.futures import ThreadPoolExecutor\n",
        "from PIL import Image\n",
        "import torch.nn as nn\n",
        "from torchvision.models import vit_b_16\n",
        "from torch.optim import Adam\n",
        "import matplotlib.pyplot as plt\n",
        "import kagglehub\n",
        "import random\n",
        "from sklearn.metrics import accuracy_score, precision_score, recall_score, f1_score, confusion_matrix\n",
        "import ssl\n",
        "from timm import create_model\n",
        "from collections import Counter\n",
        "from torchvision.models import mobilenet_v3_large\n",
        "\n"
      ]
    },
    {
      "cell_type": "code",
      "execution_count": null,
      "metadata": {
        "colab": {
          "base_uri": "https://localhost:8080/"
        },
        "id": "4WWMO93OZJHY",
        "outputId": "168c57d1-5716-4273-cd54-a84ae71d6bbc"
      },
      "outputs": [
        {
          "output_type": "stream",
          "name": "stdout",
          "text": [
            "Path to dataset files: /kaggle/input/casia-fasd\n"
          ]
        }
      ],
      "source": [
        "path = kagglehub.dataset_download(\"immada/casia-fasd\")\n",
        "\n",
        "print(\"Path to dataset files:\", path)"
      ]
    },
    {
      "cell_type": "code",
      "execution_count": null,
      "metadata": {
        "colab": {
          "base_uri": "https://localhost:8080/"
        },
        "id": "g8W0P9P2ugPA",
        "outputId": "a16bc4a9-066d-4525-a412-234bb4b643e9"
      },
      "outputs": [
        {
          "output_type": "stream",
          "name": "stdout",
          "text": [
            "Verificando o diretório: /kaggle/input/casia-fasd/casia-fasd/train/live\n",
            "Verificando o diretório: /kaggle/input/casia-fasd/casia-fasd/train/spoof\n",
            "[REFRESH] Balanceando para 19011 imagens por classe nesta época\n",
            "Verificando o diretório: /kaggle/input/casia-fasd/casia-fasd/test/live\n",
            "Verificando o diretório: /kaggle/input/casia-fasd/casia-fasd/test/spoof\n",
            "[REFRESH] Balanceando para 10128 imagens por classe nesta época\n",
            "Tamanho do Dataset de Treino: 38022\n",
            "Tamanho do Dataset de Teste: 20256\n",
            "Distribuição no Treino: Counter({0: 19011, 1: 19011})\n",
            "Distribuição no Teste: Counter({0: 10128, 1: 10128})\n"
          ]
        },
        {
          "output_type": "stream",
          "name": "stderr",
          "text": [
            "/usr/local/lib/python3.11/dist-packages/torch/utils/data/dataloader.py:624: UserWarning: This DataLoader will create 20 worker processes in total. Our suggested max number of worker in current system is 12, which is smaller than what this DataLoader is going to create. Please be aware that excessive worker creation might get DataLoader running slow or even freeze, lower the worker number to avoid potential slowness/freeze if necessary.\n",
            "  warnings.warn(\n"
          ]
        }
      ],
      "source": [
        "import os\n",
        "import random\n",
        "from PIL import Image\n",
        "from collections import Counter\n",
        "from torch.utils.data import Dataset, DataLoader\n",
        "from torchvision import transforms\n",
        "\n",
        "# Dataset personalizado para o CASIA-FASD com balanceamento opcional\n",
        "class CASIA_FASD_Dataset(Dataset):\n",
        "    def __init__(self, base_dir, dataset_type=\"train\", transform=None):\n",
        "        self.base_dir = base_dir\n",
        "        self.dataset_type = dataset_type\n",
        "        self.transform = transform\n",
        "\n",
        "        self.live_paths = []\n",
        "        self.spoof_paths = []\n",
        "\n",
        "        for label_dir in [\"live\", \"spoof\"]:\n",
        "            label = 1 if label_dir == \"live\" else 0\n",
        "            label_path = os.path.join(base_dir, dataset_type, label_dir)\n",
        "            print(f\"Verificando o diretório: {label_path}\")\n",
        "            for root, _, files in os.walk(label_path):\n",
        "                for file in files:\n",
        "                    if file.endswith('.png'):\n",
        "                        full_path = os.path.join(root, file)\n",
        "                        if label == 1:\n",
        "                            self.live_paths.append((full_path, label))\n",
        "                        else:\n",
        "                            self.spoof_paths.append((full_path, label))\n",
        "\n",
        "        self.refresh()\n",
        "\n",
        "    def refresh(self):\n",
        "        # Balanceamento das classes por undersampling\n",
        "        min_len = min(len(self.live_paths), len(self.spoof_paths))\n",
        "        print(f\"[REFRESH] Balanceando para {min_len} imagens por classe nesta época\")\n",
        "\n",
        "        sampled_live = random.sample(self.live_paths, min_len)\n",
        "        sampled_spoof = random.sample(self.spoof_paths, min_len)\n",
        "\n",
        "        balanced_data = sampled_live + sampled_spoof\n",
        "        random.shuffle(balanced_data)\n",
        "\n",
        "        self.image_paths, self.labels = zip(*balanced_data)\n",
        "        self.image_paths = list(self.image_paths)\n",
        "        self.labels = list(self.labels)\n",
        "\n",
        "    def __len__(self):\n",
        "        return len(self.image_paths)\n",
        "\n",
        "    def __getitem__(self, idx):\n",
        "        img_path = self.image_paths[idx]\n",
        "        image = Image.open(img_path)\n",
        "        if self.transform:\n",
        "            image = self.transform(image)\n",
        "        label = self.labels[idx]\n",
        "        return image, label\n",
        "\n",
        "    def __repr__(self):\n",
        "        return f\"CASIA_FASD_Dataset(dataset_type='{self.dataset_type}', num_samples={len(self)})\"\n",
        "\n",
        "# Caminho base do dataset\n",
        "base_dir = r\"/kaggle/input/casia-fasd/casia-fasd\"\n",
        "\n",
        "# Transformações dos frames\n",
        "transform = transforms.Compose([\n",
        "    transforms.Resize((224, 224)),\n",
        "    transforms.ToTensor(),\n",
        "    transforms.Normalize(mean=[0.485, 0.456, 0.406], std=[0.229, 0.224, 0.225])\n",
        "])\n",
        "\n",
        "# Criar Datasets e DataLoaders\n",
        "train_dataset = CASIA_FASD_Dataset(base_dir, dataset_type=\"train\", transform=transform)\n",
        "test_dataset = CASIA_FASD_Dataset(base_dir, dataset_type=\"test\", transform=transform)\n",
        "\n",
        "train_loader = DataLoader(train_dataset, batch_size=128, num_workers=20, pin_memory=True, shuffle=True)\n",
        "test_loader = DataLoader(test_dataset, batch_size=128, num_workers=20, pin_memory=True, shuffle=False)\n",
        "\n",
        "# Exibir os tamanhos dos datasets\n",
        "print(f\"Tamanho do Dataset de Treino: {len(train_dataset)}\")\n",
        "print(f\"Tamanho do Dataset de Teste: {len(test_dataset)}\")\n",
        "\n",
        "train_labels = train_dataset.labels\n",
        "test_labels = test_dataset.labels\n",
        "\n",
        "print(\"Distribuição no Treino:\", Counter(train_labels))\n",
        "print(\"Distribuição no Teste:\", Counter(test_labels))\n"
      ]
    },
    {
      "cell_type": "code",
      "execution_count": null,
      "metadata": {
        "colab": {
          "base_uri": "https://localhost:8080/"
        },
        "id": "jmKNbN9uu2re",
        "outputId": "923745f3-a8ec-4111-b1d5-942655d8095c"
      },
      "outputs": [
        {
          "output_type": "stream",
          "name": "stderr",
          "text": [
            "/usr/local/lib/python3.11/dist-packages/torchvision/models/_utils.py:208: UserWarning: The parameter 'pretrained' is deprecated since 0.13 and may be removed in the future, please use 'weights' instead.\n",
            "  warnings.warn(\n",
            "/usr/local/lib/python3.11/dist-packages/torchvision/models/_utils.py:223: UserWarning: Arguments other than a weight enum or `None` for 'weights' are deprecated since 0.13 and may be removed in the future. The current behavior is equivalent to passing `weights=MobileNet_V3_Large_Weights.IMAGENET1K_V1`. You can also use `weights=MobileNet_V3_Large_Weights.DEFAULT` to get the most up-to-date weights.\n",
            "  warnings.warn(msg)\n"
          ]
        },
        {
          "output_type": "stream",
          "name": "stdout",
          "text": [
            "[REFRESH] Balanceando para 19011 imagens por classe nesta época\n"
          ]
        },
        {
          "output_type": "stream",
          "name": "stderr",
          "text": [
            "\rEpoch 1/20:   0%|          | 0/298 [00:00<?, ?it/s]/usr/local/lib/python3.11/dist-packages/torch/utils/data/dataloader.py:624: UserWarning: This DataLoader will create 20 worker processes in total. Our suggested max number of worker in current system is 12, which is smaller than what this DataLoader is going to create. Please be aware that excessive worker creation might get DataLoader running slow or even freeze, lower the worker number to avoid potential slowness/freeze if necessary.\n",
            "  warnings.warn(\n",
            "Epoch 1/20: 100%|██████████| 298/298 [00:28<00:00, 10.52it/s]\n"
          ]
        },
        {
          "output_type": "stream",
          "name": "stdout",
          "text": [
            "[REFRESH] Balanceando para 19011 imagens por classe nesta época\n"
          ]
        },
        {
          "output_type": "stream",
          "name": "stderr",
          "text": [
            "Epoch 2/20: 100%|██████████| 298/298 [00:28<00:00, 10.47it/s]\n"
          ]
        },
        {
          "output_type": "stream",
          "name": "stdout",
          "text": [
            "[REFRESH] Balanceando para 19011 imagens por classe nesta época\n"
          ]
        },
        {
          "output_type": "stream",
          "name": "stderr",
          "text": [
            "Epoch 3/20: 100%|██████████| 298/298 [00:28<00:00, 10.60it/s]\n"
          ]
        },
        {
          "output_type": "stream",
          "name": "stdout",
          "text": [
            "[REFRESH] Balanceando para 19011 imagens por classe nesta época\n"
          ]
        },
        {
          "output_type": "stream",
          "name": "stderr",
          "text": [
            "Epoch 4/20: 100%|██████████| 298/298 [00:28<00:00, 10.41it/s]\n"
          ]
        },
        {
          "output_type": "stream",
          "name": "stdout",
          "text": [
            "[REFRESH] Balanceando para 19011 imagens por classe nesta época\n"
          ]
        },
        {
          "output_type": "stream",
          "name": "stderr",
          "text": [
            "Epoch 5/20: 100%|██████████| 298/298 [00:28<00:00, 10.45it/s]"
          ]
        },
        {
          "output_type": "stream",
          "name": "stdout",
          "text": [
            "\n",
            "Avaliação após Epoch 5:\n"
          ]
        },
        {
          "output_type": "stream",
          "name": "stderr",
          "text": [
            "\n"
          ]
        },
        {
          "output_type": "stream",
          "name": "stdout",
          "text": [
            "Acurácia: 0.9991\n",
            "Precisão: 0.9983\n",
            "Recall: 0.9998\n",
            "F1-score: 0.9991\n"
          ]
        },
        {
          "output_type": "stream",
          "name": "stderr",
          "text": [
            "/usr/local/lib/python3.11/dist-packages/torch/utils/data/dataloader.py:624: UserWarning: This DataLoader will create 20 worker processes in total. Our suggested max number of worker in current system is 12, which is smaller than what this DataLoader is going to create. Please be aware that excessive worker creation might get DataLoader running slow or even freeze, lower the worker number to avoid potential slowness/freeze if necessary.\n",
            "  warnings.warn(\n"
          ]
        },
        {
          "output_type": "stream",
          "name": "stdout",
          "text": [
            "Acurácia: 0.9542\n",
            "Precisão: 0.9846\n",
            "Recall: 0.9229\n",
            "F1-score: 0.9528\n",
            "\n",
            "Novo melhor modelo salvo com acurácia: 0.9542\n",
            "[REFRESH] Balanceando para 19011 imagens por classe nesta época\n"
          ]
        },
        {
          "output_type": "stream",
          "name": "stderr",
          "text": [
            "\rEpoch 6/20:   0%|          | 0/298 [00:00<?, ?it/s]/usr/local/lib/python3.11/dist-packages/torch/utils/data/dataloader.py:624: UserWarning: This DataLoader will create 20 worker processes in total. Our suggested max number of worker in current system is 12, which is smaller than what this DataLoader is going to create. Please be aware that excessive worker creation might get DataLoader running slow or even freeze, lower the worker number to avoid potential slowness/freeze if necessary.\n",
            "  warnings.warn(\n",
            "Epoch 6/20: 100%|██████████| 298/298 [00:28<00:00, 10.48it/s]\n"
          ]
        },
        {
          "output_type": "stream",
          "name": "stdout",
          "text": [
            "[REFRESH] Balanceando para 19011 imagens por classe nesta época\n"
          ]
        },
        {
          "output_type": "stream",
          "name": "stderr",
          "text": [
            "Epoch 7/20: 100%|██████████| 298/298 [00:28<00:00, 10.52it/s]\n"
          ]
        },
        {
          "output_type": "stream",
          "name": "stdout",
          "text": [
            "[REFRESH] Balanceando para 19011 imagens por classe nesta época\n"
          ]
        },
        {
          "output_type": "stream",
          "name": "stderr",
          "text": [
            "Epoch 8/20: 100%|██████████| 298/298 [00:28<00:00, 10.54it/s]\n"
          ]
        },
        {
          "output_type": "stream",
          "name": "stdout",
          "text": [
            "[REFRESH] Balanceando para 19011 imagens por classe nesta época\n"
          ]
        },
        {
          "output_type": "stream",
          "name": "stderr",
          "text": [
            "Epoch 9/20: 100%|██████████| 298/298 [00:28<00:00, 10.46it/s]\n"
          ]
        },
        {
          "output_type": "stream",
          "name": "stdout",
          "text": [
            "[REFRESH] Balanceando para 19011 imagens por classe nesta época\n"
          ]
        },
        {
          "output_type": "stream",
          "name": "stderr",
          "text": [
            "Epoch 10/20: 100%|██████████| 298/298 [00:28<00:00, 10.45it/s]"
          ]
        },
        {
          "output_type": "stream",
          "name": "stdout",
          "text": [
            "\n",
            "Avaliação após Epoch 10:\n"
          ]
        },
        {
          "output_type": "stream",
          "name": "stderr",
          "text": [
            "\n"
          ]
        },
        {
          "output_type": "stream",
          "name": "stdout",
          "text": [
            "Acurácia: 0.9999\n",
            "Precisão: 0.9999\n",
            "Recall: 1.0000\n",
            "F1-score: 0.9999\n"
          ]
        },
        {
          "output_type": "stream",
          "name": "stderr",
          "text": [
            "/usr/local/lib/python3.11/dist-packages/torch/utils/data/dataloader.py:624: UserWarning: This DataLoader will create 20 worker processes in total. Our suggested max number of worker in current system is 12, which is smaller than what this DataLoader is going to create. Please be aware that excessive worker creation might get DataLoader running slow or even freeze, lower the worker number to avoid potential slowness/freeze if necessary.\n",
            "  warnings.warn(\n"
          ]
        },
        {
          "output_type": "stream",
          "name": "stdout",
          "text": [
            "Acurácia: 0.9551\n",
            "Precisão: 0.9957\n",
            "Recall: 0.9141\n",
            "F1-score: 0.9532\n",
            "\n",
            "Novo melhor modelo salvo com acurácia: 0.9551\n",
            "[REFRESH] Balanceando para 19011 imagens por classe nesta época\n"
          ]
        },
        {
          "output_type": "stream",
          "name": "stderr",
          "text": [
            "\rEpoch 11/20:   0%|          | 0/298 [00:00<?, ?it/s]/usr/local/lib/python3.11/dist-packages/torch/utils/data/dataloader.py:624: UserWarning: This DataLoader will create 20 worker processes in total. Our suggested max number of worker in current system is 12, which is smaller than what this DataLoader is going to create. Please be aware that excessive worker creation might get DataLoader running slow or even freeze, lower the worker number to avoid potential slowness/freeze if necessary.\n",
            "  warnings.warn(\n",
            "Epoch 11/20: 100%|██████████| 298/298 [00:28<00:00, 10.53it/s]\n"
          ]
        },
        {
          "output_type": "stream",
          "name": "stdout",
          "text": [
            "[REFRESH] Balanceando para 19011 imagens por classe nesta época\n"
          ]
        },
        {
          "output_type": "stream",
          "name": "stderr",
          "text": [
            "Epoch 12/20: 100%|██████████| 298/298 [00:28<00:00, 10.47it/s]\n"
          ]
        },
        {
          "output_type": "stream",
          "name": "stdout",
          "text": [
            "[REFRESH] Balanceando para 19011 imagens por classe nesta época\n"
          ]
        },
        {
          "output_type": "stream",
          "name": "stderr",
          "text": [
            "Epoch 13/20: 100%|██████████| 298/298 [00:28<00:00, 10.43it/s]\n"
          ]
        },
        {
          "output_type": "stream",
          "name": "stdout",
          "text": [
            "[REFRESH] Balanceando para 19011 imagens por classe nesta época\n"
          ]
        },
        {
          "output_type": "stream",
          "name": "stderr",
          "text": [
            "Epoch 14/20: 100%|██████████| 298/298 [00:28<00:00, 10.46it/s]\n"
          ]
        },
        {
          "output_type": "stream",
          "name": "stdout",
          "text": [
            "[REFRESH] Balanceando para 19011 imagens por classe nesta época\n"
          ]
        },
        {
          "output_type": "stream",
          "name": "stderr",
          "text": [
            "Epoch 15/20: 100%|██████████| 298/298 [00:28<00:00, 10.50it/s]"
          ]
        },
        {
          "output_type": "stream",
          "name": "stdout",
          "text": [
            "\n",
            "Avaliação após Epoch 15:\n"
          ]
        },
        {
          "output_type": "stream",
          "name": "stderr",
          "text": [
            "\n"
          ]
        },
        {
          "output_type": "stream",
          "name": "stdout",
          "text": [
            "Acurácia: 0.9999\n",
            "Precisão: 0.9999\n",
            "Recall: 1.0000\n",
            "F1-score: 0.9999\n"
          ]
        },
        {
          "output_type": "stream",
          "name": "stderr",
          "text": [
            "/usr/local/lib/python3.11/dist-packages/torch/utils/data/dataloader.py:624: UserWarning: This DataLoader will create 20 worker processes in total. Our suggested max number of worker in current system is 12, which is smaller than what this DataLoader is going to create. Please be aware that excessive worker creation might get DataLoader running slow or even freeze, lower the worker number to avoid potential slowness/freeze if necessary.\n",
            "  warnings.warn(\n"
          ]
        },
        {
          "output_type": "stream",
          "name": "stdout",
          "text": [
            "Acurácia: 0.9541\n",
            "Precisão: 0.9978\n",
            "Recall: 0.9102\n",
            "F1-score: 0.9520\n",
            "[REFRESH] Balanceando para 19011 imagens por classe nesta época\n"
          ]
        },
        {
          "output_type": "stream",
          "name": "stderr",
          "text": [
            "\rEpoch 16/20:   0%|          | 0/298 [00:00<?, ?it/s]/usr/local/lib/python3.11/dist-packages/torch/utils/data/dataloader.py:624: UserWarning: This DataLoader will create 20 worker processes in total. Our suggested max number of worker in current system is 12, which is smaller than what this DataLoader is going to create. Please be aware that excessive worker creation might get DataLoader running slow or even freeze, lower the worker number to avoid potential slowness/freeze if necessary.\n",
            "  warnings.warn(\n",
            "Epoch 16/20: 100%|██████████| 298/298 [00:28<00:00, 10.39it/s]\n"
          ]
        },
        {
          "output_type": "stream",
          "name": "stdout",
          "text": [
            "[REFRESH] Balanceando para 19011 imagens por classe nesta época\n"
          ]
        },
        {
          "output_type": "stream",
          "name": "stderr",
          "text": [
            "Epoch 17/20: 100%|██████████| 298/298 [00:28<00:00, 10.51it/s]\n"
          ]
        },
        {
          "output_type": "stream",
          "name": "stdout",
          "text": [
            "[REFRESH] Balanceando para 19011 imagens por classe nesta época\n"
          ]
        },
        {
          "output_type": "stream",
          "name": "stderr",
          "text": [
            "Epoch 18/20: 100%|██████████| 298/298 [00:28<00:00, 10.51it/s]\n"
          ]
        },
        {
          "output_type": "stream",
          "name": "stdout",
          "text": [
            "[REFRESH] Balanceando para 19011 imagens por classe nesta época\n"
          ]
        },
        {
          "output_type": "stream",
          "name": "stderr",
          "text": [
            "Epoch 19/20: 100%|██████████| 298/298 [00:28<00:00, 10.53it/s]\n"
          ]
        },
        {
          "output_type": "stream",
          "name": "stdout",
          "text": [
            "[REFRESH] Balanceando para 19011 imagens por classe nesta época\n"
          ]
        },
        {
          "output_type": "stream",
          "name": "stderr",
          "text": [
            "Epoch 20/20: 100%|██████████| 298/298 [00:28<00:00, 10.58it/s]"
          ]
        },
        {
          "output_type": "stream",
          "name": "stdout",
          "text": [
            "\n",
            "Avaliação após Epoch 20:\n"
          ]
        },
        {
          "output_type": "stream",
          "name": "stderr",
          "text": [
            "\n"
          ]
        },
        {
          "output_type": "stream",
          "name": "stdout",
          "text": [
            "Acurácia: 1.0000\n",
            "Precisão: 1.0000\n",
            "Recall: 1.0000\n",
            "F1-score: 1.0000\n"
          ]
        },
        {
          "output_type": "stream",
          "name": "stderr",
          "text": [
            "/usr/local/lib/python3.11/dist-packages/torch/utils/data/dataloader.py:624: UserWarning: This DataLoader will create 20 worker processes in total. Our suggested max number of worker in current system is 12, which is smaller than what this DataLoader is going to create. Please be aware that excessive worker creation might get DataLoader running slow or even freeze, lower the worker number to avoid potential slowness/freeze if necessary.\n",
            "  warnings.warn(\n"
          ]
        },
        {
          "output_type": "stream",
          "name": "stdout",
          "text": [
            "Acurácia: 0.9545\n",
            "Precisão: 0.9982\n",
            "Recall: 0.9106\n",
            "F1-score: 0.9524\n",
            "\n",
            "Avaliação Final no Conjunto de Teste:\n"
          ]
        },
        {
          "output_type": "stream",
          "name": "stderr",
          "text": [
            "/usr/local/lib/python3.11/dist-packages/torch/utils/data/dataloader.py:624: UserWarning: This DataLoader will create 20 worker processes in total. Our suggested max number of worker in current system is 12, which is smaller than what this DataLoader is going to create. Please be aware that excessive worker creation might get DataLoader running slow or even freeze, lower the worker number to avoid potential slowness/freeze if necessary.\n",
            "  warnings.warn(\n"
          ]
        },
        {
          "output_type": "stream",
          "name": "stdout",
          "text": [
            "Acurácia: 0.9545\n",
            "Precisão: 0.9982\n",
            "Recall: 0.9106\n",
            "F1-score: 0.9524\n",
            "AUC-ROC: 0.9951\n",
            "MCC: 0.9125\n",
            "Matriz de Confusão:\n",
            "[[10111    17]\n",
            " [  905  9223]]\n",
            "Specificidade: 0.9983\n",
            "\n",
            "Relatório de Classificação:\n",
            "              precision    recall  f1-score   support\n",
            "\n",
            "       spoof       0.92      1.00      0.96     10128\n",
            "        live       1.00      0.91      0.95     10128\n",
            "\n",
            "    accuracy                           0.95     20256\n",
            "   macro avg       0.96      0.95      0.95     20256\n",
            "weighted avg       0.96      0.95      0.95     20256\n",
            "\n"
          ]
        },
        {
          "output_type": "execute_result",
          "data": {
            "text/plain": [
              "0.9544826224328594"
            ]
          },
          "metadata": {},
          "execution_count": 17
        }
      ],
      "source": [
        "from sklearn.metrics import (\n",
        "    accuracy_score, precision_score, recall_score, f1_score,\n",
        "    confusion_matrix, classification_report, roc_auc_score,\n",
        "    matthews_corrcoef\n",
        ")\n",
        "import ssl\n",
        "import torch\n",
        "import torch.nn as nn\n",
        "from torch.optim import Adam\n",
        "from torchvision import transforms\n",
        "from tqdm import tqdm\n",
        "import numpy as np\n",
        "from timm import create_model\n",
        "\n",
        "# Configuração do dispositivo\n",
        "device = torch.device(\"cuda\" if torch.cuda.is_available() else \"cpu\")\n",
        "\n",
        "# Modelo mobilenet-v3 para classificação binária\n",
        "model = mobilenet_v3_large(pretrained=True)\n",
        "model.classifier[3] = nn.Linear(model.classifier[3].in_features, 2)\n",
        "model = model.to(device)\n",
        "\n",
        "# Função de custo com pesos\n",
        "weights = torch.tensor([1.0, 1.0], dtype=torch.float).to(device)  # Ajuste os pesos conforme necessário\n",
        "criterion = nn.CrossEntropyLoss(weight=weights)\n",
        "optimizer = Adam(model.parameters(), lr=1e-6)\n",
        "\n",
        "# Avaliação do modelo\n",
        "def evaluate_model(model, dataloader, device, full_eval=False):\n",
        "    model.eval()\n",
        "    y_true, y_pred, y_probs = [], [], []\n",
        "\n",
        "    with torch.no_grad():\n",
        "        for images, labels in dataloader:\n",
        "            images, labels = images.to(device), labels.to(device)\n",
        "            outputs = model(images)\n",
        "            probs = torch.softmax(outputs, dim=1)\n",
        "            preds = torch.argmax(probs, dim=1)\n",
        "\n",
        "            y_true.extend(labels.cpu().numpy())\n",
        "            y_pred.extend(preds.cpu().numpy())\n",
        "            y_probs.extend(probs[:, 1].cpu().numpy())\n",
        "\n",
        "    y_true, y_pred, y_probs = np.array(y_true), np.array(y_pred), np.array(y_probs)\n",
        "    acc = accuracy_score(y_true, y_pred)\n",
        "    prec = precision_score(y_true, y_pred, zero_division=0)\n",
        "    rec = recall_score(y_true, y_pred, zero_division=0)\n",
        "    f1 = f1_score(y_true, y_pred, zero_division=0)\n",
        "\n",
        "    print(f\"Acurácia: {acc:.4f}\\nPrecisão: {prec:.4f}\\nRecall: {rec:.4f}\\nF1-score: {f1:.4f}\")\n",
        "\n",
        "    if full_eval:\n",
        "        auc = roc_auc_score(y_true, y_probs)\n",
        "        mcc = matthews_corrcoef(y_true, y_pred)\n",
        "        cm = confusion_matrix(y_true, y_pred)\n",
        "        print(f\"AUC-ROC: {auc:.4f}\\nMCC: {mcc:.4f}\\nMatriz de Confusão:\\n{cm}\")\n",
        "\n",
        "        tn, fp, fn, tp = cm.ravel()\n",
        "        specificity = tn / (tn + fp)\n",
        "        print(f\"Specificidade: {specificity:.4f}\\n\")\n",
        "        print(\"Relatório de Classificação:\")\n",
        "        print(classification_report(y_true, y_pred, target_names=[\"spoof\", \"live\"]))\n",
        "\n",
        "    model.train()\n",
        "    return acc\n",
        "\n",
        "# Treinamento com salvamento do melhor modelo\n",
        "best_acc = 0\n",
        "best_model_path = \"melhor_modelo_mobile.pth\"\n",
        "num_epochs = 20\n",
        "\n",
        "for epoch in range(num_epochs):\n",
        "    train_dataset.refresh()\n",
        "    model.train()\n",
        "    running_loss = 0.0\n",
        "\n",
        "    for images, labels in tqdm(train_loader, desc=f\"Epoch {epoch+1}/{num_epochs}\"):\n",
        "        images, labels = images.to(device), labels.to(device)\n",
        "        optimizer.zero_grad()\n",
        "        outputs = model(images)\n",
        "        loss = criterion(outputs, labels)\n",
        "        loss.backward()\n",
        "        optimizer.step()\n",
        "        running_loss += loss.item()\n",
        "\n",
        "    if (epoch + 1) % 5 == 0:\n",
        "        print(f\"\\nAvaliação após Epoch {epoch+1}:\")\n",
        "        train_acc = evaluate_model(model, train_loader, device, full_eval=False)\n",
        "\n",
        "        val_acc = evaluate_model(model, test_loader, device, full_eval=False)\n",
        "        if val_acc > best_acc:\n",
        "            best_acc = val_acc\n",
        "            torch.save(model.state_dict(), best_model_path)\n",
        "            print(f\"\\nNovo melhor modelo salvo com acurácia: {best_acc:.4f}\")\n",
        "\n",
        "print(\"\\nAvaliação Final no Conjunto de Teste:\")\n",
        "#model.load_state_dict(torch.load(best_model_path))\n",
        "evaluate_model(model, test_loader, device, full_eval=True)\n"
      ]
    }
  ],
  "metadata": {
    "accelerator": "GPU",
    "colab": {
      "gpuType": "A100",
      "machine_shape": "hm",
      "provenance": []
    },
    "kernelspec": {
      "display_name": "Python 3",
      "name": "python3"
    },
    "language_info": {
      "name": "python"
    }
  },
  "nbformat": 4,
  "nbformat_minor": 0
}